{
 "cells": [
  {
   "cell_type": "markdown",
   "metadata": {},
   "source": [
    "3.7后的原生字典维持插入顺序，起到和OrderedDict(哈希链表)类似的作用"
   ]
  },
  {
   "cell_type": "code",
   "execution_count": null,
   "metadata": {},
   "outputs": [],
   "source": [
    "import random\n",
    "d = {}\n",
    "for i in range(10):\n",
    "    randNum = random.randint(1,1000)\n",
    "    d[randNum] = random.random()\n",
    "    print(randNum)\n",
    "print(d)\n",
    "for i in d:\n",
    "    print(i)\n"
   ]
  },
  {
   "cell_type": "markdown",
   "metadata": {},
   "source": [
    "集合会维持一个特定的顺序，既不是插入顺序也不是按值排序，输出时总是输出该特定顺序(直接输出和for循环输出)"
   ]
  },
  {
   "cell_type": "code",
   "execution_count": 7,
   "metadata": {},
   "outputs": [
    {
     "name": "stdout",
     "output_type": "stream",
     "text": [
      "692\n",
      "811\n",
      "767\n",
      "612\n",
      "672\n",
      "302\n",
      "307\n",
      "994\n",
      "395\n",
      "338\n",
      "{672, 994, 612, 811, 395, 302, 338, 307, 692, 767}\n",
      "672\n",
      "994\n",
      "612\n",
      "811\n",
      "395\n",
      "302\n",
      "338\n",
      "307\n",
      "692\n",
      "767\n",
      "--==--\n",
      "{672, 994, 612, 811, 395, 302, 338, 307, 692, 767}\n",
      "672\n",
      "994\n",
      "612\n",
      "811\n",
      "395\n",
      "302\n",
      "338\n",
      "307\n",
      "692\n",
      "767\n"
     ]
    }
   ],
   "source": [
    "import random\n",
    "s = set()\n",
    "for i in range(10):\n",
    "    randNum = random.randint(1,1000)\n",
    "    s.add(randNum)\n",
    "    print(randNum)\n",
    "print(s)\n",
    "for i in s:\n",
    "    print(i)\n",
    "print('--==--')\n",
    "print(s)\n",
    "for i in s:\n",
    "    print(i)"
   ]
  }
 ],
 "metadata": {
  "interpreter": {
   "hash": "8aca45dad27ce1947ef292d5438aefc46ff4d9bc63135651c6bae06598d6f881"
  },
  "kernelspec": {
   "display_name": "Python 3.9.4 64-bit",
   "language": "python",
   "name": "python3"
  },
  "language_info": {
   "codemirror_mode": {
    "name": "ipython",
    "version": 3
   },
   "file_extension": ".py",
   "mimetype": "text/x-python",
   "name": "python",
   "nbconvert_exporter": "python",
   "pygments_lexer": "ipython3",
   "version": "3.9.4"
  },
  "orig_nbformat": 4
 },
 "nbformat": 4,
 "nbformat_minor": 2
}
