{
 "cells": [
  {
   "cell_type": "markdown",
   "metadata": {},
   "source": [
    "python集合用法 交集 & 并集 | 差集 - 对称差集(并集减去交集|-&) ^  \n",
    "s.issubset(t) s是否是t的子集  \n",
    "s.issuperset(t) s是否是t的超集\n"
   ]
  },
  {
   "cell_type": "code",
   "execution_count": 4,
   "metadata": {},
   "outputs": [
    {
     "name": "stdout",
     "output_type": "stream",
     "text": [
      "{1, 2, 3}\n",
      "{1, 2, 3, 4}\n",
      "{4}\n",
      "True\n",
      "True\n"
     ]
    }
   ],
   "source": [
    "s = set([1,2,3])\n",
    "t = set([1,2,3,4])\n",
    "print(s & t)\n",
    "print(s | t)\n",
    "print(t - s)\n",
    "print(s.issubset(t))\n",
    "print(t.issuperset(s))"
   ]
  }
 ],
 "metadata": {
  "interpreter": {
   "hash": "8aca45dad27ce1947ef292d5438aefc46ff4d9bc63135651c6bae06598d6f881"
  },
  "kernelspec": {
   "display_name": "Python 3.9.4 64-bit",
   "language": "python",
   "name": "python3"
  },
  "language_info": {
   "codemirror_mode": {
    "name": "ipython",
    "version": 3
   },
   "file_extension": ".py",
   "mimetype": "text/x-python",
   "name": "python",
   "nbconvert_exporter": "python",
   "pygments_lexer": "ipython3",
   "version": "3.9.4"
  },
  "orig_nbformat": 4
 },
 "nbformat": 4,
 "nbformat_minor": 2
}
