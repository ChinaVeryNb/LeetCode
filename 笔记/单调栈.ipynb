{
 "cells": [
  {
   "cell_type": "markdown",
   "metadata": {},
   "source": [
    "# [单调栈](https://lucifer.ren/blog/2020/11/03/monotone-stack/)"
   ]
  },
  {
   "cell_type": "code",
   "execution_count": 19,
   "metadata": {},
   "outputs": [],
   "source": [
    "class Solution:\n",
    "    def monostoneStack(self, arr : list[int]):\n",
    "        # stack为单调栈，保证栈内所有元素出栈时从大到小\n",
    "        stack = []\n",
    "        # ans[j]来表示在arr[j]之后第一个小于其本身的位置, 0表示不存在\n",
    "        ans = [0] * len(arr)\n",
    "        for i in range(len(arr)):\n",
    "            while stack and arr[i] < arr[stack[-1]]:\n",
    "                peek = stack.pop()\n",
    "                ans[peek] = i\n",
    "            stack.append(i)\n",
    "        return ans"
   ]
  },
  {
   "cell_type": "code",
   "execution_count": 20,
   "metadata": {},
   "outputs": [
    {
     "data": {
      "text/plain": [
       "[0, 4, 4, 4, 0, 6, 0]"
      ]
     },
     "execution_count": 20,
     "metadata": {},
     "output_type": "execute_result"
    }
   ],
   "source": [
    "arr = [1,3,4,5,2,9,6]\n",
    "s1 = Solution()\n",
    "s1.monostoneStack(arr)"
   ]
  }
 ],
 "metadata": {
  "interpreter": {
   "hash": "8aca45dad27ce1947ef292d5438aefc46ff4d9bc63135651c6bae06598d6f881"
  },
  "kernelspec": {
   "display_name": "Python 3.9.4 64-bit",
   "language": "python",
   "name": "python3"
  },
  "language_info": {
   "codemirror_mode": {
    "name": "ipython",
    "version": 3
   },
   "file_extension": ".py",
   "mimetype": "text/x-python",
   "name": "python",
   "nbconvert_exporter": "python",
   "pygments_lexer": "ipython3",
   "version": "3.9.4"
  },
  "orig_nbformat": 4
 },
 "nbformat": 4,
 "nbformat_minor": 2
}
