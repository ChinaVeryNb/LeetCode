{
 "cells": [
  {
   "cell_type": "markdown",
   "metadata": {},
   "source": [
    "输入一个整数，告诉我们接下来有多少组(行)数据，然后在输入每组（行）数据的具体值"
   ]
  },
  {
   "cell_type": "code",
   "execution_count": null,
   "metadata": {},
   "outputs": [],
   "source": [
    "tcase = int(input().strip())\n",
    "for case in range(tcase):\n",
    "    data = list(map(int, input().strip().split()))\n",
    "    print(data)"
   ]
  },
  {
   "cell_type": "markdown",
   "metadata": {},
   "source": [
    "有多组输入数据，没有具体的告诉你有多少组，但是题目却告诉你遇见什么结束"
   ]
  },
  {
   "cell_type": "code",
   "execution_count": null,
   "metadata": {},
   "outputs": [],
   "source": [
    "while True:\n",
    "    # 已知每行有且只有两个数据\n",
    "    a, b = map(int, input().strip().split())\n",
    "    print(a, b)\n",
    "    if a == 0 and b == 0:\n",
    "        break"
   ]
  },
  {
   "cell_type": "markdown",
   "metadata": {},
   "source": [
    "这次的输入实现输入一个整数，告诉我们有多少行，在输入每一行。对于每一行的输入，有划分为第一个数和其他的数，第一个数代表那一组数据一共有多少输入。"
   ]
  },
  {
   "cell_type": "code",
   "execution_count": null,
   "metadata": {},
   "outputs": [],
   "source": [
    "tcase = int(input().strip())\n",
    "for case in range(tcase):\n",
    "    data = list(map(int, input().strip().split()))\n",
    "    print(data)\n",
    "    n, array = data[0], data[1:]\n",
    "    print(n, array)\n",
    "    sum = 0\n",
    "    for i in range(n):\n",
    "        sum += array[i]"
   ]
  },
  {
   "cell_type": "markdown",
   "metadata": {},
   "source": [
    "pprint实现结构化的输出"
   ]
  },
  {
   "cell_type": "code",
   "execution_count": null,
   "metadata": {},
   "outputs": [],
   "source": [
    "import pprint\n",
    "ls = [[0] * 10 for _ in range(3)]\n",
    "print(ls)   \n",
    "pprint.pprint(ls)"
   ]
  },
  {
   "cell_type": "markdown",
   "metadata": {},
   "source": [
    "有多组输入数据，但没有具体的告诉你有多少组，只告诉每组输入的形式\n"
   ]
  },
  {
   "cell_type": "code",
   "execution_count": null,
   "metadata": {},
   "outputs": [],
   "source": [
    "while True:\n",
    "    # 已知每行有且只有三个数据\n",
    "    a, b, c= map(int, input().strip().split())\n",
    "    print(a, b, c)"
   ]
  }
 ],
 "metadata": {
  "interpreter": {
   "hash": "8aca45dad27ce1947ef292d5438aefc46ff4d9bc63135651c6bae06598d6f881"
  },
  "kernelspec": {
   "display_name": "Python 3.9.4 64-bit",
   "language": "python",
   "name": "python3"
  },
  "language_info": {
   "codemirror_mode": {
    "name": "ipython",
    "version": 3
   },
   "file_extension": ".py",
   "mimetype": "text/x-python",
   "name": "python",
   "nbconvert_exporter": "python",
   "pygments_lexer": "ipython3",
   "version": "3.9.4"
  },
  "orig_nbformat": 4
 },
 "nbformat": 4,
 "nbformat_minor": 2
}
